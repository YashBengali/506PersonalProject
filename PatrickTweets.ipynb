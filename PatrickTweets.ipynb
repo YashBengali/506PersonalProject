{
 "cells": [
  {
   "cell_type": "code",
   "execution_count": 2,
   "id": "ce92e35e",
   "metadata": {},
   "outputs": [
    {
     "name": "stdout",
     "output_type": "stream",
     "text": [
      "                        date  Unnamed: 1  Unnamed: 2  \\\n",
      "0  2021-11-08 12:15:28+00:00          38           0   \n",
      "1  2021-11-01 15:27:46+00:00        3589           0   \n",
      "2  2021-10-29 02:02:41+00:00       14352           2   \n",
      "3  2021-10-27 02:24:31+00:00         593           0   \n",
      "4  2021-11-01 08:50:17+00:00         146           0   \n",
      "\n",
      "                                               tweet  \n",
      "0  b\"RT @WILDERCRYPTOO: Here's how the largest st...  \n",
      "1  b'RT @TheDomino: Most popular ticker searches ...  \n",
      "2  b'$AAPL\\n\\nit\\xe2\\x80\\x99s the first time sinc...  \n",
      "3  b'$AAPL SIGNAL for CLOSE PRICE Prediction for ...  \n",
      "4  b'3/3  \\nif you dont have a strategy, check mi...  \n"
     ]
    }
   ],
   "source": [
    "import pandas as pd\n",
    "\n",
    "tweets = pd.read_csv(\"tweets.csv\")\n",
    "print(tweets.head())"
   ]
  },
  {
   "cell_type": "code",
   "execution_count": 50,
   "id": "eabc782d",
   "metadata": {},
   "outputs": [],
   "source": [
    "from nltk.sentiment.vader import SentimentIntensityAnalyzer\n",
    "analyzer = SentimentIntensityAnalyzer()\n",
    "\n",
    "tweets['compound'] = [analyzer.polarity_scores(x)['compound'] for x in tweets['tweet']]\n",
    "tweets['scaled_column'] = tweets.compound /tweets.compound.abs().max()\n"
   ]
  },
  {
   "cell_type": "code",
   "execution_count": 51,
   "id": "874a7d9f",
   "metadata": {},
   "outputs": [
    {
     "name": "stdout",
     "output_type": "stream",
     "text": [
      "2021-10-24 0.12249221719967056\n",
      "2021-10-25 0.12084845886499654\n",
      "2021-10-26 0.12251482273575175\n",
      "2021-10-27 0.08574175865076618\n",
      "2021-10-28 0.05431917319108719\n",
      "2021-10-29 0.09663675589173433\n",
      "2021-10-30 0.10916118716692737\n",
      "2021-10-31 0.07210526405355783\n",
      "2021-11-01 0.11107361504671975\n",
      "2021-11-02 0.136572077185017\n",
      "2021-11-03 0.11744762068788885\n",
      "2021-11-04 0.1295232129906945\n",
      "2021-11-05 0.17669836441621298\n",
      "2021-11-06 0.10633574005046967\n",
      "2021-11-07 0.17161863304504243\n",
      "2021-11-08 0.10586804580511221\n"
     ]
    }
   ],
   "source": [
    "#date is given as date and time in 1 value, so we split into 2 columns. \n",
    "split = tweets.date.str.split(expand=True)\n",
    "tweets[\"new_date\"] = split[0]\n",
    "\n",
    "grouped_df = tweets.groupby(by = [\"new_date\"])\n",
    "#test = tweets.groupby(by = [\"new_date\"]).__iter__()\n",
    "for name,group in grouped_df:\n",
    "    print(name, group.scaled_column.mean())\n",
    " \n",
    "#print(grouped_df.head())\n",
    "#print(tweets.new_date.unique())"
   ]
  },
  {
   "cell_type": "code",
   "execution_count": null,
   "id": "84a1ed12",
   "metadata": {},
   "outputs": [],
   "source": []
  },
  {
   "cell_type": "code",
   "execution_count": null,
   "id": "750393b3",
   "metadata": {},
   "outputs": [],
   "source": []
  }
 ],
 "metadata": {
  "kernelspec": {
   "display_name": "Python 3",
   "language": "python",
   "name": "python3"
  },
  "language_info": {
   "codemirror_mode": {
    "name": "ipython",
    "version": 3
   },
   "file_extension": ".py",
   "mimetype": "text/x-python",
   "name": "python",
   "nbconvert_exporter": "python",
   "pygments_lexer": "ipython3",
   "version": "3.8.8"
  }
 },
 "nbformat": 4,
 "nbformat_minor": 5
}
